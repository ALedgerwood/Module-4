{
 "cells": [
  {
   "cell_type": "markdown",
   "metadata": {
    "tags": []
   },
   "source": [
    "# Web Mining and Applied NLP (44-620)\n",
    "\n",
    "## Requests, JSON, and NLP\n",
    "\n",
    "### Student Name: Alexandra Ledgerwood\n",
    "### Link to github repo: https://github.com/ALedgerwood/Module-4\n",
    "\n",
    "Perform the tasks described in the Markdown cells below.  When you have completed the assignment make sure your code cells have all been run (and have output beneath them) and ensure you have committed and pushed ALL of your changes to your assignment repository.\n",
    "\n",
    "Make sure you have [installed spaCy and its pipeline](https://spacy.io/usage#quickstart) and [spaCyTextBlob](https://spacy.io/universe/project/spacy-textblob)\n",
    "\n",
    "Every question that requires you to write code will have a code cell underneath it; you may either write your entire solution in that cell or write it in a python file (`.py`), then import and run the appropriate code to answer the question.\n",
    "\n",
    "This assignment requires that you write additional files (either JSON or pickle files); make sure to submit those files in your repository as well."
   ]
  },
  {
   "cell_type": "code",
   "execution_count": 13,
   "metadata": {
    "tags": []
   },
   "outputs": [
    {
     "name": "stdout",
     "output_type": "stream",
     "text": [
      "All prereqs installed.\n",
      "Package           Version\n",
      "----------------- --------\n",
      "blinker           1.6.2\n",
      "blis              0.7.9\n",
      "catalogue         2.0.8\n",
      "confection        0.1.0\n",
      "cymem             2.0.7\n",
      "en-core-web-sm    3.6.0\n",
      "Flask-SQLAlchemy  3.0.3\n",
      "greenlet          2.0.2\n",
      "langcodes         3.3.0\n",
      "lyricsgenius      3.0.1\n",
      "murmurhash        1.0.9\n",
      "nltk              3.8.1\n",
      "pathy             0.10.2\n",
      "preshed           3.0.8\n",
      "pydantic          1.10.11\n",
      "python-dotenv     1.0.0\n",
      "regex             2023.6.3\n",
      "smart-open        6.3.0\n",
      "spacy             3.6.0\n",
      "spacy-legacy      3.0.12\n",
      "spacy-loggers     1.0.4\n",
      "spacytextblob     4.0.0\n",
      "SQLAlchemy        2.0.15\n",
      "srsly             2.4.6\n",
      "textblob          0.15.3\n",
      "thinc             8.1.10\n",
      "tqdm              4.65.0\n",
      "typer             0.9.0\n",
      "typing_extensions 4.6.2\n",
      "wasabi            1.1.2\n",
      "xmltodict         0.13.0\n"
     ]
    },
    {
     "name": "stderr",
     "output_type": "stream",
     "text": [
      "\n",
      "[notice] A new release of pip is available: 23.1 -> 23.2\n",
      "[notice] To update, run: python.exe -m pip install --upgrade pip\n"
     ]
    }
   ],
   "source": [
    "# Create and activate a Python virtual environment. \n",
    "# Before starting the project, try all these imports FIRST\n",
    "# Address any errors you get running this code cell \n",
    "# by installing the necessary packages into your active Python environment.\n",
    "# Try to resolve issues using your materials and the web.\n",
    "# If that doesn't work, ask for help in the discussion forums.\n",
    "# You can't complete the exercises until you import these - start early! \n",
    "# We also import json and pickle (included in the Python Standard Library).\n",
    "\n",
    "import json\n",
    "import pickle\n",
    "\n",
    "import requests\n",
    "import spacy\n",
    "from spacytextblob.spacytextblob import SpacyTextBlob\n",
    "\n",
    "print('All prereqs installed.')\n",
    "!pip list\n"
   ]
  },
  {
   "cell_type": "markdown",
   "metadata": {},
   "source": [
    "1. The following code accesses the [lyrics.ovh](https://lyricsovh.docs.apiary.io/#reference/0/lyrics-of-a-song/search) public api, searches for the lyrics of a song, and stores it in a dictionary object.  Write the resulting json to a file (either a JSON file or a pickle file; you choose). You will read in the contents of this file for future questions so we do not need to frequently access the API.\n",
    "\n",
    "Question 1  - As directed I need to find a new song/lyrics since this is no longer working."
   ]
  },
  {
   "cell_type": "markdown",
   "metadata": {
    "tags": []
   },
   "source": [
    "# Question 1"
   ]
  },
  {
   "cell_type": "code",
   "execution_count": 21,
   "metadata": {},
   "outputs": [
    {
     "name": "stdout",
     "output_type": "stream",
     "text": [
      "Searching for songs by Dua Lipa...\n",
      "\n",
      "Song 1: \"21 Grams\"\n",
      "Song 2: \"25/8\"\n",
      "Song 3: \"Act of God\"\n",
      "Song 4: \"Act of God (Demo)\"\n",
      "\"A Different Way\" is not valid. Skipping.\n",
      "Song 5: \"AfterIight\"\n",
      "\n",
      "Reached user-specified song limit (5).\n",
      "Done. Found 5 songs.\n",
      "Searching for \"Levitating\" by Dua Lipa...\n",
      "Done.\n"
     ]
    },
    {
     "name": "stdin",
     "output_type": "stream",
     "text": [
      "Levitating.json already exists. Overwrite?\n",
      "(y/n):  n\n"
     ]
    },
    {
     "name": "stdout",
     "output_type": "stream",
     "text": [
      "Skipping file save.\n",
      "\n",
      "Lyrics for 'Levitating' by Dua Lipa:\n",
      "148 ContributorsTranslationsTürkçeEspañolفارسیDeutschFrançaisNederlandsLevitating Lyrics[Verse 1]\n",
      "If you wanna run away with me, I know a galaxy\n",
      "And I can take you for a ride\n",
      "I had a premonition that we fell into a rhythm\n",
      "Where the music don't stop for life\n",
      "Glitter in the sky, glitter in my eyes\n",
      "Shining just the way I like\n",
      "If you're feeling like you need a little bit of company\n",
      "You met me at the perfect time\n",
      "\n",
      "[Pre-Chorus]\n",
      "You want me, I want you, baby\n",
      "My sugarboo, I'm levitating\n",
      "The Milky Way, we're renegading\n",
      "Yeah, yeah, yeah, yeah, yeah\n",
      "\n",
      "[Chorus]\n",
      "I got you, moonlight, you're my starlight\n",
      "I need you all night, come on, dance with me\n",
      "I'm levitating\n",
      "You, moonlight, you're my starlight (You're the moonlight)\n",
      "I need you all night, come on, dance with me\n",
      "I'm levitating\n",
      "\n",
      "[Verse 2]\n",
      "I believe that you're for me, I feel it in our energy\n",
      "I see us written in the stars\n",
      "We can go wherever, so let's do it now or never\n",
      "Baby, nothing's ever, ever too far\n",
      "Glitter in the sky, glitter in our eyes\n",
      "Shining just the way we are\n",
      "I feel like we're forever every time we get together\n",
      "But whatever, let's get lost on Mars\n",
      "You might also like[Pre-Chorus]\n",
      "You want me, I want you, baby\n",
      "My sugarboo, I'm levitating\n",
      "The Milky Way, we're renegading\n",
      "Yeah, yeah, yeah, yeah, yeah\n",
      "\n",
      "[Chorus]\n",
      "I got you, moonlight, you're my starlight\n",
      "I need you all night, come on, dance with me\n",
      "I'm levitating\n",
      "You, moonlight, you're my starlight (You're the moonlight)\n",
      "I need you all night, come on, dance with me\n",
      "I'm levitating\n",
      "\n",
      "[Post-Chorus]\n",
      "You can fly away with me tonight\n",
      "You can fly away with me tonight\n",
      "Baby, let me take you for a ride\n",
      "Yeah, yeah, yeah, yeah, yeah\n",
      "I'm levitating (Woo)\n",
      "You can fly away with me tonight\n",
      "You can fly away with me tonight\n",
      "Baby, let me take you for a ride\n",
      "Yeah, yeah, yeah, yeah, yeah (Woo)\n",
      "\n",
      "[Bridge]\n",
      "My love is like a rocket, watch it blast off\n",
      "And I'm feeling so electric, dance my ass off\n",
      "And even if I wanted to, I can't stop\n",
      "Yeah, yeah, yeah, yeah, yeah\n",
      "My love is like a rocket, watch it blast off\n",
      "And I'm feeling so electric, dance my ass off\n",
      "And even if I wanted to, I can't stop\n",
      "Yeah, yeah, yeah, yeah, yeah\n",
      "[Pre-Chorus]\n",
      "You want me, I want you, baby\n",
      "My sugarboo, I'm levitating\n",
      "The Milky Way, we're renegading\n",
      "\n",
      "[Chorus]\n",
      "I got you (Yeah), moonlight, you're my starlight\n",
      "I need you all night (All night), come on, dance with me\n",
      "I'm levitating (Woo)\n",
      "\n",
      "[Post-Chorus]\n",
      "You can fly away with me tonight (Tonight)\n",
      "You can fly away with me tonight\n",
      "Baby, let me take you for a ride\n",
      "Yeah, yeah, yeah, yeah, yeah (Take you for a ride)\n",
      "I'm levitating (Woo)\n",
      "You can fly away with me tonight (Tonight)\n",
      "You can fly away with me tonight\n",
      "Baby, let me take you for a ride\n",
      "Yeah, yeah, yeah, yeah, yeah (Let me take you for a ride)\n",
      "\n",
      "[Chorus]\n",
      "I got you, moonlight, you're my starlight (You are my starlight)\n",
      "I need you all night, come on, dance with me (Come on, dance with me)\n",
      "I'm levitating\n",
      "You, moonlight, you're my starlight (You're the moonlight)\n",
      "I need you all night, come on, dance with me\n",
      "I'm levitating96Embed\n"
     ]
    }
   ],
   "source": [
    "# getting json file of lyrics using an API\n",
    "\n",
    "import lyricsgenius\n",
    "genius = lyricsgenius.Genius('JtUijw8YGNAomnidRH7gq11zP74lZjoR3lt6LRH2D_8xhk-qcT-SYbsPa8et4zpd')\n",
    "\n",
    "artist = genius.search_artist(\"Dua Lipa\", max_songs=5, sort=\"title\")\n",
    "song = artist.song(\"Levitating\")\n",
    "artist.save_lyrics(\"Levitating\")\n",
    "\n",
    "if song is not None:\n",
    "    lyrics = song.lyrics\n",
    "    print(f\"Lyrics for '{song.title}' by {song.artist}:\\n{lyrics}\")\n"
   ]
  },
  {
   "cell_type": "markdown",
   "metadata": {},
   "source": [
    "2. Read in the contents of your file.  Print the lyrics of the song (not the entire dictionary!) and use spaCyTextBlob to perform sentiment analysis on the lyrics.  Print the polarity score of the sentiment analysis.  Given that the range of the polarity score is `[-1.0,1.0]` which corresponds to how positive or negative the text in question is, do you think the lyrics have a more positive or negative connotaion?  Answer this question in a comment in your code cell."
   ]
  },
  {
   "cell_type": "markdown",
   "metadata": {},
   "source": [
    "# Question 2"
   ]
  },
  {
   "cell_type": "code",
   "execution_count": 20,
   "metadata": {},
   "outputs": [
    {
     "name": "stdout",
     "output_type": "stream",
     "text": [
      "Searching for songs by Dua Lipa...\n",
      "\n",
      "Song 1: \"21 Grams\"\n",
      "Song 2: \"25/8\"\n",
      "Song 3: \"Act of God\"\n",
      "Song 4: \"Act of God (Demo)\"\n",
      "\"A Different Way\" is not valid. Skipping.\n",
      "Song 5: \"AfterIight\"\n",
      "\n",
      "Reached user-specified song limit (5).\n",
      "Done. Found 5 songs.\n",
      "Searching for \"Levitating\" by Dua Lipa...\n",
      "Done.\n",
      "Lyrics for 'Levitating' by Dua Lipa:\n",
      "148 ContributorsTranslationsTürkçeEspañolفارسیDeutschFrançaisNederlandsLevitating Lyrics[Verse 1]\n",
      "If you wanna run away with me, I know a galaxy\n",
      "And I can take you for a ride\n",
      "I had a premonition that we fell into a rhythm\n",
      "Where the music don't stop for life\n",
      "Glitter in the sky, glitter in my eyes\n",
      "Shining just the way I like\n",
      "If you're feeling like you need a little bit of company\n",
      "You met me at the perfect time\n",
      "\n",
      "[Pre-Chorus]\n",
      "You want me, I want you, baby\n",
      "My sugarboo, I'm levitating\n",
      "The Milky Way, we're renegading\n",
      "Yeah, yeah, yeah, yeah, yeah\n",
      "\n",
      "[Chorus]\n",
      "I got you, moonlight, you're my starlight\n",
      "I need you all night, come on, dance with me\n",
      "I'm levitating\n",
      "You, moonlight, you're my starlight (You're the moonlight)\n",
      "I need you all night, come on, dance with me\n",
      "I'm levitating\n",
      "\n",
      "[Verse 2]\n",
      "I believe that you're for me, I feel it in our energy\n",
      "I see us written in the stars\n",
      "We can go wherever, so let's do it now or never\n",
      "Baby, nothing's ever, ever too far\n",
      "Glitter in the sky, glitter in our eyes\n",
      "Shining just the way we are\n",
      "I feel like we're forever every time we get together\n",
      "But whatever, let's get lost on Mars\n",
      "You might also like[Pre-Chorus]\n",
      "You want me, I want you, baby\n",
      "My sugarboo, I'm levitating\n",
      "The Milky Way, we're renegading\n",
      "Yeah, yeah, yeah, yeah, yeah\n",
      "\n",
      "[Chorus]\n",
      "I got you, moonlight, you're my starlight\n",
      "I need you all night, come on, dance with me\n",
      "I'm levitating\n",
      "You, moonlight, you're my starlight (You're the moonlight)\n",
      "I need you all night, come on, dance with me\n",
      "I'm levitating\n",
      "\n",
      "[Post-Chorus]\n",
      "You can fly away with me tonight\n",
      "You can fly away with me tonight\n",
      "Baby, let me take you for a ride\n",
      "Yeah, yeah, yeah, yeah, yeah\n",
      "I'm levitating (Woo)\n",
      "You can fly away with me tonight\n",
      "You can fly away with me tonight\n",
      "Baby, let me take you for a ride\n",
      "Yeah, yeah, yeah, yeah, yeah (Woo)\n",
      "\n",
      "[Bridge]\n",
      "My love is like a rocket, watch it blast off\n",
      "And I'm feeling so electric, dance my ass off\n",
      "And even if I wanted to, I can't stop\n",
      "Yeah, yeah, yeah, yeah, yeah\n",
      "My love is like a rocket, watch it blast off\n",
      "And I'm feeling so electric, dance my ass off\n",
      "And even if I wanted to, I can't stop\n",
      "Yeah, yeah, yeah, yeah, yeah\n",
      "[Pre-Chorus]\n",
      "You want me, I want you, baby\n",
      "My sugarboo, I'm levitating\n",
      "The Milky Way, we're renegading\n",
      "\n",
      "[Chorus]\n",
      "I got you (Yeah), moonlight, you're my starlight\n",
      "I need you all night (All night), come on, dance with me\n",
      "I'm levitating (Woo)\n",
      "\n",
      "[Post-Chorus]\n",
      "You can fly away with me tonight (Tonight)\n",
      "You can fly away with me tonight\n",
      "Baby, let me take you for a ride\n",
      "Yeah, yeah, yeah, yeah, yeah (Take you for a ride)\n",
      "I'm levitating (Woo)\n",
      "You can fly away with me tonight (Tonight)\n",
      "You can fly away with me tonight\n",
      "Baby, let me take you for a ride\n",
      "Yeah, yeah, yeah, yeah, yeah (Let me take you for a ride)\n",
      "\n",
      "[Chorus]\n",
      "I got you, moonlight, you're my starlight (You are my starlight)\n",
      "I need you all night, come on, dance with me (Come on, dance with me)\n",
      "I'm levitating\n",
      "You, moonlight, you're my starlight (You're the moonlight)\n",
      "I need you all night, come on, dance with me\n",
      "I'm levitating96Embed\n",
      "Sentiment score: 0.6394230769230769\n"
     ]
    }
   ],
   "source": [
    "#printing song lyrics and doing a sentiment analysis\n",
    "\n",
    "import lyricsgenius\n",
    "import spacy\n",
    "from textblob import TextBlob\n",
    "from spacytextblob.spacytextblob import SpacyTextBlob\n",
    "\n",
    "nlp = spacy.load('en_core_web_sm')\n",
    "nlp.add_pipe(\"spacytextblob\")\n",
    "\n",
    "def get_sentiment_score(text):\n",
    "    doc = nlp(text)\n",
    "    return doc._.polarity\n",
    "\n",
    "genius = lyricsgenius.Genius('JtUijw8YGNAomnidRH7gq11zP74lZjoR3lt6LRH2D_8xhk-qcT-SYbsPa8et4zpd')\n",
    "\n",
    "# Search for the artist (Dua Lipa) and fetch the song details\n",
    "artist = genius.search_artist(\"Dua Lipa\", max_songs=5, sort=\"title\")\n",
    "\n",
    "# Get the song object for the specific song \"Bad Together\"\n",
    "song = artist.song(\"Levitating\")\n",
    "\n",
    "# Print the lyrics and perform sentiment analysis\n",
    "if song is not None:\n",
    "    lyrics = song.lyrics\n",
    "    print(f\"Lyrics for '{song.title}' by {song.artist}:\\n{lyrics}\")\n",
    "\n",
    "    sentiment_score = get_sentiment_score(lyrics)\n",
    "    print(f\"Sentiment score: {sentiment_score}\")\n",
    "else:\n",
    "    print(\"Song not found.\")\n",
    "    \n",
    "# Sentiment score: 0.6394230769230769 So this is generally positive. It has more positive connotation in sentiment.\n"
   ]
  },
  {
   "cell_type": "markdown",
   "metadata": {},
   "source": [
    "3. Write a function that takes an artist, song, and filename, accesses the lyrics.ovh api to get the song lyrics, and writes the results to the specified filename.  Test this function by getting the lyrics to any four songs of your choice and storing them in different files."
   ]
  },
  {
   "cell_type": "markdown",
   "metadata": {
    "tags": []
   },
   "source": [
    "#  Question 3"
   ]
  },
  {
   "cell_type": "code",
   "execution_count": 8,
   "metadata": {},
   "outputs": [
    {
     "name": "stdout",
     "output_type": "stream",
     "text": [
      "Searching for songs by BTS...\n",
      "\n",
      "Song 1: \"Dynamite\"\n",
      "\n",
      "Reached user-specified song limit (1).\n",
      "Done. Found 1 songs.\n",
      "Searching for songs by Kygo...\n",
      "\n",
      "Song 1: \"Stole the Show\"\n",
      "\n",
      "Reached user-specified song limit (1).\n",
      "Done. Found 1 songs.\n",
      "Searching for \"Dancing Feet\" by Kygo...\n",
      "Done.\n",
      "Searching for songs by Shepperd...\n",
      "\n",
      "Done. Found 0 songs.\n",
      "Searching for \"Geronimo\" by Shepperd...\n",
      "Done.\n",
      "Searching for songs by Shawn_Mendes...\n",
      "\n",
      "Changing artist name to 'Shawn Mendes'\n",
      "Song 1: \"There’s Nothing Holdin’ Me Back\"\n",
      "\n",
      "Reached user-specified song limit (1).\n",
      "Done. Found 1 songs.\n",
      "Searching for \"Stitches\" by Shawn Mendes...\n",
      "Done.\n"
     ]
    }
   ],
   "source": [
    "import lyricsgenius\n",
    "import json\n",
    "import os\n",
    "\n",
    "def get_song_lyrics(artist, song, filename):\n",
    "    access_token = '6wkG206P0FgF5A4OcBd5LbeG5hxNCQbkGLhKuEB_7Y2iV1jTZT1PckgANAEfPdXk'\n",
    "    genius = lyricsgenius.Genius(access_token)\n",
    "    artist = genius.search_artist(artist, max_songs=1, get_full_info=False)\n",
    "    song = artist.song(song)\n",
    "    with open(filename+\"_lyrics.json\", 'w') as filename:\n",
    "        json.dump(song.lyrics, filename)\n",
    "\n",
    "get_song_lyrics(\"BTS\", \"Dynamite\", \"bTS_Dynamite\")\n",
    "get_song_lyrics(\"Kygo\", \"Dancing Feet\", \"Kygo_Dancing_Feet\")\n",
    "get_song_lyrics(\"Shepperd\", \"Geronimo\", \"Shepperd_Geronimo\")\n",
    "get_song_lyrics(\"Shawn_Mendes\", \"Stitches\", \"Shawn_Mendes_Stitches\")\n",
    "\n",
    "\n"
   ]
  },
  {
   "cell_type": "markdown",
   "metadata": {},
   "source": [
    "4. Write a function that takes the name of a file that contains song lyrics, loads the file, performs sentiment analysis, and returns the polarity score.  Use this function to print the polarity scores (with the name of the song) of the three files you created in question 3.  Does the reported polarity match your understanding of the song's lyrics? Why or why not do you think that might be?  Answer the questions in either a comment in the code cell or a markdown cell under the code cell."
   ]
  },
  {
   "cell_type": "markdown",
   "metadata": {},
   "source": [
    "# Question 4"
   ]
  },
  {
   "cell_type": "code",
   "execution_count": 9,
   "metadata": {
    "tags": []
   },
   "outputs": [
    {
     "name": "stdout",
     "output_type": "stream",
     "text": [
      "Polarity of bTS_Dynamite_lyrics.json: 0.16203703703703703\n",
      "Polarity of Kygo_Dancing_Feet_lyrics.json: 0.2772727272727273\n",
      "Polarity of Shepperd_Geronimo_lyrics.json: 0.1796296296296296\n",
      "Polarity of Shawn_Mendes_Stitches_lyrics.json: -0.041666666666666664\n"
     ]
    }
   ],
   "source": [
    "import json\n",
    "import spacy\n",
    "from spacytextblob.spacytextblob import SpacyTextBlob\n",
    "\n",
    "def lyric_polarity (filename):\n",
    "    nlp=spacy.load('en_core_web_sm')\n",
    "    nlp.add_pipe('spacytextblob')\n",
    "    with open(filename, 'r') as f:\n",
    "        data = json.load(f)\n",
    "    doc = nlp(data)\n",
    "    polarity = doc._.blob.polarity \n",
    "\n",
    "    print(f\"Polarity of {filename}: {polarity}\")\n",
    "\n",
    "lyric_polarity(\"bTS_Dynamite_lyrics.json\")\n",
    "lyric_polarity(\"Kygo_Dancing_Feet_lyrics.json\")\n",
    "lyric_polarity(\"Shepperd_Geronimo_lyrics.json\")\n",
    "lyric_polarity(\"Shawn_Mendes_Stitches_lyrics.json\")"
   ]
  },
  {
   "cell_type": "markdown",
   "metadata": {},
   "source": [
    "# Sentiment Analysis\n",
    "The sentiment analysis of these first three songs is fairly neutral for all of them, which makes sense since they all have a component of longing or use a word like \"dynamite\" which could be interpreted as violent/negative even though it is used on a more metaphorical sense in the song. The final song Stitches reads as only slightly negative, which surprises me since it is about heartache after breakup. I wonder how effective sentiment analysis really is."
   ]
  },
  {
   "cell_type": "code",
   "execution_count": null,
   "metadata": {},
   "outputs": [],
   "source": []
  }
 ],
 "metadata": {
  "kernelspec": {
   "display_name": "Python 3 (ipykernel)",
   "language": "python",
   "name": "python3"
  },
  "language_info": {
   "codemirror_mode": {
    "name": "ipython",
    "version": 3
   },
   "file_extension": ".py",
   "mimetype": "text/x-python",
   "name": "python",
   "nbconvert_exporter": "python",
   "pygments_lexer": "ipython3",
   "version": "3.9.13"
  }
 },
 "nbformat": 4,
 "nbformat_minor": 4
}
